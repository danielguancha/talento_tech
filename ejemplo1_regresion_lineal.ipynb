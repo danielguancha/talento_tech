{
  "nbformat": 4,
  "nbformat_minor": 0,
  "metadata": {
    "colab": {
      "provenance": []
    },
    "kernelspec": {
      "name": "python3",
      "display_name": "Python 3"
    },
    "language_info": {
      "name": "python"
    }
  },
  "cells": [
    {
      "cell_type": "code",
      "execution_count": null,
      "metadata": {
        "colab": {
          "base_uri": "https://localhost:8080/"
        },
        "id": "Ll6rJlncoDUf",
        "outputId": "68ed3b76-e0e7-426b-e49c-30be95474959"
      },
      "outputs": [
        {
          "output_type": "stream",
          "name": "stdout",
          "text": [
            "   x  y\n",
            "0  1  2\n",
            "1  2  3\n",
            "2  2  4\n",
            "3  3  4\n",
            "4  4  4\n",
            "5  4  6\n",
            "6  5  5\n",
            "7  6  7\n"
          ]
        }
      ],
      "source": [
        "import pandas as pd\n",
        "import numpy as np\n",
        "import matplotlib.pyplot as plt\n",
        "\n",
        "data = {\n",
        "    'x':[1,2,2,3,4,4,5,6],\n",
        "    'y':[2,3,4,4,4,6,5,7]\n",
        "}\n",
        "\n",
        "df = pd.DataFrame(data)\n",
        "\n",
        "print(df)"
      ]
    },
    {
      "cell_type": "code",
      "source": [
        "n = len(df)\n",
        "sum_x = df['x'].sum()\n",
        "sum_y = df['y'].sum()\n",
        "sum_xy = (df['x'] * df['y']).sum()\n",
        "sum_x2 = (df['x'] ** 2).sum()\n",
        "\n",
        "print(sum_x)\n",
        "print(sum_y)\n",
        "print(sum_xy)\n",
        "print(sum_x2)\n"
      ],
      "metadata": {
        "colab": {
          "base_uri": "https://localhost:8080/"
        },
        "id": "a84zueZ7pV9a",
        "outputId": "fb1ac852-8f0c-4a63-803d-8aeebd6aaf35"
      },
      "execution_count": null,
      "outputs": [
        {
          "output_type": "stream",
          "name": "stdout",
          "text": [
            "27\n",
            "35\n",
            "135\n",
            "111\n"
          ]
        }
      ]
    },
    {
      "cell_type": "code",
      "source": [
        "m = ( n * sum_xy - sum_x * sum_y) / (n* sum_x2 - sum_x**2)\n",
        "b = ( (sum_y/n) - m *  (sum_x/n))\n",
        "\n",
        "print(m)\n",
        "print(b)"
      ],
      "metadata": {
        "colab": {
          "base_uri": "https://localhost:8080/"
        },
        "id": "AfWMtSlRqei3",
        "outputId": "8b195f96-7e0f-49ad-afe7-b4bfe9925e18"
      },
      "execution_count": null,
      "outputs": [
        {
          "output_type": "stream",
          "name": "stdout",
          "text": [
            "0.8490566037735849\n",
            "1.5094339622641506\n"
          ]
        }
      ]
    },
    {
      "cell_type": "code",
      "source": [
        "df['regresion'] = df['x'] * m + b\n",
        "\n",
        "print(df)"
      ],
      "metadata": {
        "colab": {
          "base_uri": "https://localhost:8080/"
        },
        "id": "bOeZ1ThRrdAO",
        "outputId": "fc97fd9b-2e4b-49b2-9839-655745940a5e"
      },
      "execution_count": null,
      "outputs": [
        {
          "output_type": "stream",
          "name": "stdout",
          "text": [
            "   x  y  regresion\n",
            "0  1  2   2.358491\n",
            "1  2  3   3.207547\n",
            "2  2  4   3.207547\n",
            "3  3  4   4.056604\n",
            "4  4  4   4.905660\n",
            "5  4  6   4.905660\n",
            "6  5  5   5.754717\n",
            "7  6  7   6.603774\n"
          ]
        }
      ]
    },
    {
      "cell_type": "code",
      "source": [
        "plt.scatter(df['x'], df['y'], color='blue', label='Datos')\n",
        "plt.plot(df['x'], df['regresion'], color='red', label='Línea de Regresión')\n",
        "plt.xlabel('X')\n",
        "plt.ylabel('Y')\n",
        "plt.title('Regresión Lineal')\n",
        "plt.legend()\n",
        "plt.grid(True)\n",
        "plt.show()"
      ],
      "metadata": {
        "colab": {
          "base_uri": "https://localhost:8080/",
          "height": 472
        },
        "id": "2t5_EsYPrpSo",
        "outputId": "c0e08bda-2742-423e-bf45-ecbef0a05498"
      },
      "execution_count": null,
      "outputs": [
        {
          "output_type": "display_data",
          "data": {
            "text/plain": [
              "<Figure size 640x480 with 1 Axes>"
            ],
            "image/png": "[encoded data removed]"
          },
          "metadata": {}
        }
      ]
    },
    {
      "cell_type": "code",
      "source": [
        "\n",
        "df['error'] = df['y'] - df['regresion']\n",
        "df['error_2'] = df['error'] **2\n",
        "df['MSE'] = df['error_2'] /n\n",
        "df['RMSE'] = df['MSE'] ** 0.5\n",
        "\n",
        "\n",
        "print(df)\n"
      ],
      "metadata": {
        "colab": {
          "base_uri": "https://localhost:8080/"
        },
        "id": "38i8xWk0sHyL",
        "outputId": "bcae10ab-4f36-401b-f2f8-471a657e0268"
      },
      "execution_count": null,
      "outputs": [
        {
          "output_type": "stream",
          "name": "stdout",
          "text": [
            "   x  y  regresion     error   error_2       MSE      RMSE\n",
            "0  1  2   2.358491 -0.358491  0.128515  0.016064  0.126746\n",
            "1  2  3   3.207547 -0.207547  0.043076  0.005384  0.073379\n",
            "2  2  4   3.207547  0.792453  0.627981  0.078498  0.280174\n",
            "3  3  4   4.056604 -0.056604  0.003204  0.000400  0.020012\n",
            "4  4  4   4.905660 -0.905660  0.820221  0.102528  0.320199\n",
            "5  4  6   4.905660  1.094340  1.197579  0.149697  0.386907\n",
            "6  5  5   5.754717 -0.754717  0.569598  0.071200  0.266833\n",
            "7  6  7   6.603774  0.396226  0.156995  0.019624  0.140087\n"
          ]
        }
      ]
    },
    {
      "cell_type": "code",
      "source": [
        "sum_regresion = df['regresion'].sum()\n",
        "sum_error = df['error'].sum()\n",
        "sum_error_2 = df['error_2'].sum()\n",
        "sum_MSE = df['MSE'].sum()\n",
        "sum_RMSE = df['RMSE'].sum()\n",
        "\n",
        "# Crear un DataFrame con las sumatorias\n",
        "sum_df = pd.DataFrame({\n",
        "    'x': [sum_x],\n",
        "    'y': [sum_y],\n",
        "    'regresion': [sum_regresion],\n",
        "    'error': [sum_error],\n",
        "    'error_2': [sum_error_2],\n",
        "    'MSE': [sum_MSE],\n",
        "    'RMSE': [sum_RMSE]\n",
        "})\n",
        "\n",
        "\n",
        "# Concatenar el DataFrame original, la fila vacía y la fila de sumatorias\n",
        "df = pd.concat([df, sum_df], ignore_index=True)\n",
        "\n",
        "# Asignar un nuevo índice con etiquetas\n",
        "new_index = list(range(len(df)-2)) + [\"\", \"Sumatorias\"]\n",
        "df.index = new_index\n",
        "\n",
        "print(df)\n"
      ],
      "metadata": {
        "colab": {
          "base_uri": "https://localhost:8080/"
        },
        "id": "UTqiORfdGyaM",
        "outputId": "a174117e-b581-4cde-a5aa-0b7fb3df659b"
      },
      "execution_count": null,
      "outputs": [
        {
          "output_type": "stream",
          "name": "stdout",
          "text": [
            "             x   y  regresion         error   error_2       MSE      RMSE\n",
            "0            1   2   2.358491 -3.584906e-01  0.128515  0.016064  0.126746\n",
            "1            2   3   3.207547 -2.075472e-01  0.043076  0.005384  0.073379\n",
            "2            2   4   3.207547  7.924528e-01  0.627981  0.078498  0.280174\n",
            "3            3   4   4.056604 -5.660377e-02  0.003204  0.000400  0.020012\n",
            "4            4   4   4.905660 -9.056604e-01  0.820221  0.102528  0.320199\n",
            "5            4   6   4.905660  1.094340e+00  1.197579  0.149697  0.386907\n",
            "6            5   5   5.754717 -7.547170e-01  0.569598  0.071200  0.266833\n",
            "             6   7   6.603774  3.962264e-01  0.156995  0.019624  0.140087\n",
            "Sumatorias  27  35  35.000000  1.776357e-15  3.547170  0.443396  1.614338\n"
          ]
        }
      ]
    }
  ]
}